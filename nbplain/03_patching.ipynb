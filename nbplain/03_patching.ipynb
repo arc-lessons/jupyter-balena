{
 "cells": [
  {
   "cell_type": "markdown",
   "metadata": {},
   "source": [
    "# Patching why and how?"
   ]
  },
  {
   "cell_type": "markdown",
   "metadata": {},
   "source": [
    "## Overview:\n",
    "- **Teaching:** 10 min\n",
    "- **Exercises:** 10 min\n",
    "\n",
    "**Questions**\n",
    "- Why do I need to patch programs on Balena?\n",
    "- How do I patch programs on Balena?\n",
    "\n",
    "**Objectives**\n",
    "- Understand how to patch programs on Balena to a more recent `glibc`."
   ]
  },
  {
   "cell_type": "markdown",
   "metadata": {},
   "source": [
    "## What is glibc?\n",
    "\n",
    "`glibc` contains standard libraries that are used by many programs on the system.  Unfortunately Balena is quite an old system now and the default version of glibc is not compatible with newer programs and libraries.  This can be a particular issue with some python libraries that depend upon newer features, e.g. tensorflow, pytorch."
   ]
  },
  {
   "cell_type": "markdown",
   "metadata": {},
   "source": [
    "## Information: `which python`\n",
    "\n",
    "Note than because conda install a different version of Python in each environment you will need to ensure that you have activated the environment in order to patch the correct one!"
   ]
  },
  {
   "cell_type": "markdown",
   "metadata": {},
   "source": [
    "Having made sure that you have activated the correct environmen.  We first need to install the module to do the patching:\n",
    "\n",
    "```bash\n",
    "module load patchelf\n",
    "```\n",
    "\n",
    "We can check which version of Python we need to patch and print it to the screen to double check we are int he correct environment.\n",
    "\n",
    "```bash\n",
    "mypython=$(readlink -f $(which python))\n",
    "echo $mypython\n",
    "```\n",
    "\n",
    "Finally we patch it to a more recent glibc system library:\n",
    "\n",
    "```bash\n",
    "patchelf --set-interpreter /apps/gnu/glibc/2.23/lib/ld-linux-x86-64.so.2 $mypython\n",
    "patchelf --force-rpath --set-rpath \\$ORIGIN/../lib:/apps/gnu/glibc/2.23/lib $mypython\n",
    "```"
   ]
  },
  {
   "cell_type": "markdown",
   "metadata": {},
   "source": [
    "## Key Points:\n",
    "- `glibc` provides standard system libraries that are used by many programs.\n",
    "- On Balena you may need to patch python in order to run some packages."
   ]
  }
 ],
 "metadata": {
  "kernelspec": {
   "display_name": "Python 3",
   "language": "python",
   "name": "python3"
  },
  "language_info": {
   "codemirror_mode": {
    "name": "ipython",
    "version": 3
   },
   "file_extension": ".py",
   "mimetype": "text/x-python",
   "name": "python",
   "nbconvert_exporter": "python",
   "pygments_lexer": "ipython3",
   "version": "3.8.3"
  }
 },
 "nbformat": 4,
 "nbformat_minor": 4
}
