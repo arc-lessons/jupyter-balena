{
 "cells": [
  {
   "cell_type": "markdown",
   "metadata": {
    "slideshow": {
     "slide_type": "slide"
    }
   },
   "source": [
    "# Conda Configuration"
   ]
  },
  {
   "cell_type": "markdown",
   "metadata": {
    "slideshow": {
     "slide_type": "subslide"
    }
   },
   "source": [
    "## Overview:\n",
    "- **Teaching:** 10 min\n",
    "- **Exercises:** 10 min\n",
    "\n",
    "**Questions**\n",
    "- Why would I want to customise conda?\n",
    "- How can I customise my conda configuration?\n",
    "\n",
    "**Objectives**\n",
    "- Understand why you would want to customise conda configuration on Balena.\n",
    "- Know how to customise conda configuration."
   ]
  },
  {
   "cell_type": "markdown",
   "metadata": {
    "slideshow": {
     "slide_type": "slide"
    }
   },
   "source": [
    "## Python module\n",
    "\n",
    "First we need to load the python module.  There is a system version of Python but this does not have conda available by default.  The recommended module has conda installed:\n",
    "\n",
    "```bash\n",
    "module load python3/2019.x\n",
    "```\n",
    "\n",
    "Verify that you have loaded the module:\n",
    "\n",
    "```bash\n",
    "which python\n",
    "/apps/intel/python3/2019.x/bin/python\n",
    "```"
   ]
  },
  {
   "cell_type": "markdown",
   "metadata": {
    "slideshow": {
     "slide_type": "slide"
    }
   },
   "source": [
    "Now we can customise our `conda` configuration file, open it with `nano ~/.condarc` or your preferred editor and enter the following:\n",
    "\n",
    "```bash\n",
    "# To disable changing the terminal prompt\n",
    "changeps1: false\n",
    " \n",
    "# Define location for my environments\n",
    "# this should be change to a directory in your scratch space\n",
    "# Run `pwd` in your home directory to get your root '/home/X/username'\n",
    "envs_dirs:\n",
    "  - /home/q/rjg20/scratch/conda-env \n",
    " \n",
    " \n",
    "# Location for my packages and cache\n",
    "# as for env this should be change to a directory in your scratch space\n",
    "pkgs_dirs:\n",
    "  - /apps/intel/python3/2019.x/pkgs\n",
    "  - /home/q/rjg20/scratch/pkgs\n",
    " \n",
    " \n",
    "# Channels in priority to pull/search packages from\n",
    "channels:\n",
    "  - intel\n",
    "  - defaults\n",
    "```"
   ]
  },
  {
   "cell_type": "markdown",
   "metadata": {
    "slideshow": {
     "slide_type": "slide"
    }
   },
   "source": [
    "What are each of these settings doing?\n",
    "\n",
    "- `changeps1` modifies the prompt, this is a matter of preference, for the demonstration your instructor may set this to `true` so that we can more easily follow what the commands are doing.\n",
    "\n",
    "- `envs_dirs` and `pkgs_dirs` set the location that conda will use to store environment details and packages.  Conda allows us to specify specific versions of all the libraries we will need, even the Python version, and these can get large very quickly.  Therefore we will use our `scratch` storage for our conda environments.  While this storage is not backed up we will see later how we can create files which can be used to recreate our environment.  This allows us to recreate our environment is required and share reproducible workflows by recording the specific version of libraries we used for our computation.\n",
    "\n",
    "- `channels` conda uses channels to provide packages, specifying `intel` first means that conda will will check these first for intel optimised versions of libraries.\n",
    "\n",
    "Full documentation about how to use `.condarc` is available at: https://conda.io/projects/conda/en/latest/user-guide/configuration/use-condarc.html."
   ]
  },
  {
   "cell_type": "markdown",
   "metadata": {
    "slideshow": {
     "slide_type": "slide"
    }
   },
   "source": [
    "## Information: Why should you use the Intel Distribution of Python?\n",
    "\n",
    "**Close-to-Native Code Performance** and potential to use whole nodes without having to program in parallel.\n",
    "\n",
    "The Intel Distribution for Python incorporates multiple libraries and techniques to bridge the performance gap between Python and equivalent functions written in C and C++ languages, including:\n",
    "\n",
    "Intel Math Kernel Library (Intel MKL) for BLAS and LAPACK\n",
    "Intel MKL vector math library for universal functions (uMath)\n",
    "Intel Data Analytics Acceleration Library (Intel DAAL) for machine learning and data analytics\n",
    "Integration with Intel Advanced Vector Extensions (Intel AVX), a feature of Intel Xeon processors\n",
    "Example: TensorFlow framework has been optimized using Intel Math Kernel Library for Deep Neural Networks (Intel MKL-DNN) primitives"
   ]
  },
  {
   "cell_type": "markdown",
   "metadata": {
    "slideshow": {
     "slide_type": "slide"
    }
   },
   "source": [
    "## Key Points:\n",
    "- Conda configuration is customised in the `.condarc` file\n",
    "- You can customise features such as where conda environments are stored\n",
    "- On Balena use the `intel` distribution as this will install libraries compiled to optimise performance"
   ]
  }
 ],
 "metadata": {
  "celltoolbar": "Slideshow",
  "kernelspec": {
   "display_name": "Python 3",
   "language": "python",
   "name": "python3"
  },
  "language_info": {
   "codemirror_mode": {
    "name": "ipython",
    "version": 3
   },
   "file_extension": ".py",
   "mimetype": "text/x-python",
   "name": "python",
   "nbconvert_exporter": "python",
   "pygments_lexer": "ipython3",
   "version": "3.8.3"
  }
 },
 "nbformat": 4,
 "nbformat_minor": 2
}
