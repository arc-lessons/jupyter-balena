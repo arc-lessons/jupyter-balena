{
 "cells": [
  {
   "cell_type": "markdown",
   "metadata": {
    "slideshow": {
     "slide_type": "slide"
    }
   },
   "source": [
    "# Working with Jupyter and Conda on Balena\n",
    "\n",
    "In this lesson we cover some useful features for working with the Conda/Jupyter ecosystem, managing your environments and running Jupyter on remote resources."
   ]
  },
  {
   "cell_type": "markdown",
   "metadata": {
    "slideshow": {
     "slide_type": "slide"
    }
   },
   "source": [
    "## Prerequisites:\n",
    "\n",
    "To complete this lesson you should be able to do all the things in this list:\n",
    "\n",
    "* Introduction to Linux, or equivalent experience\n",
    "* Introduction to HPC, or equivalent experience\n"
   ]
  },
  {
   "cell_type": "markdown",
   "metadata": {
    "slideshow": {
     "slide_type": "slide"
    }
   },
   "source": [
    "## Schedule:\n",
    "\n",
    "| Time | Episode | Description |\n",
    "|---|---|---|\n",
    "| 0:00 | [Con(da)figuration](01_conda_config.ipynb) | How to customise conda configuration |\n",
    "| 0:15 | [Conda Environments](02_conda_envs.ipynb) | How to set up and automate conda environments |\n",
    "| 0:30 | [Interactive Jupyter](301_inter_jupyter.ipynb) | How to set up Jupyter notebooks to run remotely |\n",
    "| 0:30 | [Batch Jupyter](302_batch_jupyter.ipynb) | How to set up Jupyter notebooks to run remotely |"
   ]
  },
  {
   "cell_type": "markdown",
   "metadata": {
    "slideshow": {
     "slide_type": "slide"
    }
   },
   "source": [
    "## Setup:\n",
    "\n",
    "We will use the University of Bath's HPC service Balena to run today's lesson.  If you have taken the training you will have an account on Balena and been through how to access it."
   ]
  },
  {
   "cell_type": "markdown",
   "metadata": {},
   "source": [
    "## Resources\n",
    "\n",
    "These notes are based on the [developer guides](https://wiki.bath.ac.uk/display/BalenaHPC/Developer+Guides) originally developed by Roshan Matthew."
   ]
  }
 ],
 "metadata": {
  "celltoolbar": "Slideshow",
  "kernelspec": {
   "display_name": "Python 3",
   "language": "python",
   "name": "python3"
  },
  "language_info": {
   "codemirror_mode": {
    "name": "ipython",
    "version": 3
   },
   "file_extension": ".py",
   "mimetype": "text/x-python",
   "name": "python",
   "nbconvert_exporter": "python",
   "pygments_lexer": "ipython3",
   "version": "3.8.3"
  }
 },
 "nbformat": 4,
 "nbformat_minor": 2
}
