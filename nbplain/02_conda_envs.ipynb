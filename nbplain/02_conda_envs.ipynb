{
 "cells": [
  {
   "cell_type": "markdown",
   "metadata": {},
   "source": [
    "# Creating Environments"
   ]
  },
  {
   "cell_type": "markdown",
   "metadata": {},
   "source": [
    "## Overview:\n",
    "- **Teaching:** 10 min\n",
    "- **Exercises:** 10 min\n",
    "\n",
    "**Questions**\n",
    "- How do I create a conda environment?\n",
    "- How do I activate and deactivate the environment?\n",
    "- Where are the environment and packages installed?\n",
    "- How can I record what packages are installed in an environment?\n",
    "\n",
    "**Objectives**\n",
    "- Understand why you would want to customise conda configuration on Balena.\n",
    "- Know how to customise conda configuration."
   ]
  },
  {
   "cell_type": "markdown",
   "metadata": {},
   "source": [
    "# Create an environment\n",
    "\n",
    "Now that we have configured conda we are ready to create an environment:\n",
    "\n",
    "```bash\n",
    "conda create --name intelpy38 --channel intel python=3.8\n",
    "```\n",
    "\n",
    "`conda` follows many linux program in taking a 'verb' in this case we are `create`ing a new environment `intelpy38` using libraries from the `intel` channel specifying that we want `python 3.8`.\n",
    "\n",
    "If the command does not run correctly it may be that you have not set the directories correctly in your `.condarc` that we created in the previous episode.  Make sure that you have set the paths to **your folder**.\n",
    "\n",
    "When you run this command conda will output the command required to `activate` the environment, usually:\n",
    "\n",
    "```bash\n",
    "conda activate intelpy38\n",
    "```\n",
    "\n",
    "Before doing this however lets check which python we currently have available and which version it is:\n",
    "\n",
    "```bash\n",
    "which python\n",
    "python --version\n",
    "```"
   ]
  },
  {
   "cell_type": "markdown",
   "metadata": {},
   "source": [
    "## Activate your environment\n",
    "\n",
    "Now run the command to activate you environment and the two commands to verify the location and version of python.  You should see output something like:\n",
    "\n",
    "```bash\n",
    " which python\n",
    "~/scratch/conda-env/intelpy/bin/python\n",
    "\n",
    "python --version\n",
    "Python 3.8.1 :: Intel Corporation\n",
    "```\n",
    "\n",
    "If the directory does not begin `~/scratch` then make sure that you have set the folder path correctly in `.condarc`.  If the pytohn version is not from Intel Corporation again make sure that you have set the channels in `.condarc` and in your `conda create ...` command."
   ]
  },
  {
   "cell_type": "markdown",
   "metadata": {},
   "source": [
    "## Add more libraries\n",
    "\n",
    "With the environment **activated** we can now add extra libraries that we need for our code:\n",
    "\n",
    "```bash\n",
    "conda install numpy\n",
    "```\n",
    "\n",
    "Note that because we have specified `intel` first in the channels this will be searched for libraries first.  If you don't want to have to confirm installation (by pressing y) you can include the flag `-y` in your command."
   ]
  },
  {
   "cell_type": "markdown",
   "metadata": {},
   "source": [
    "## Recording your environment\n",
    "\n",
    "Once you have installed all the necessary packages you can create a record of your environment with\n",
    "\n",
    "```bash\n",
    "conda list --explicit > intelpy38-spec-exp.txt\n",
    "```\n",
    "\n",
    "Open or print this file to screen.  You will see that it includes how the file can be used to create a new environment.  Note also that the file records the specific version of libraries that have been used.  You may also want to record the versions but not the specific source e.g. for portability to other hardware in which case use `conda list --export > env-spec.txt`"
   ]
  },
  {
   "cell_type": "markdown",
   "metadata": {},
   "source": [
    "You can also install libraries when you create an environment or install libraries in an environment that is not active.  Documentation is at https://docs.conda.io/projects/conda/en/latest/user-guide/tasks/manage-environments.html."
   ]
  },
  {
   "cell_type": "markdown",
   "metadata": {},
   "source": [
    "## Key Points:\n",
    "- `conda` takes a number of verbs to `create`, `activate` environments or `install` packages into them.\n",
    "- You can record the specific versions of libraries using `conda list`.\n",
    "- This allows you to restore the specific environment and share it with collaborators and reviewers."
   ]
  }
 ],
 "metadata": {
  "kernelspec": {
   "display_name": "Python 3",
   "language": "python",
   "name": "python3"
  },
  "language_info": {
   "codemirror_mode": {
    "name": "ipython",
    "version": 3
   },
   "file_extension": ".py",
   "mimetype": "text/x-python",
   "name": "python",
   "nbconvert_exporter": "python",
   "pygments_lexer": "ipython3",
   "version": "3.8.3"
  }
 },
 "nbformat": 4,
 "nbformat_minor": 4
}
